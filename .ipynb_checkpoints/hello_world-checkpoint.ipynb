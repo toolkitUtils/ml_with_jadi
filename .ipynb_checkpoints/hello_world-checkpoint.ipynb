{
 "cells": [
  {
   "cell_type": "code",
   "execution_count": 1,
   "id": "4a2d457c",
   "metadata": {},
   "outputs": [],
   "source": [
    "a = \"farzan\"\n",
    "b = 1.14"
   ]
  },
  {
   "cell_type": "markdown",
   "id": "eff0d0a5",
   "metadata": {},
   "source": [
    "# documentation\n",
    "here is the code\n",
    ". note one\n",
    ". note 2"
   ]
  },
  {
   "cell_type": "code",
   "execution_count": null,
   "id": "06c16644",
   "metadata": {},
   "outputs": [],
   "source": []
  }
 ],
 "metadata": {
  "kernelspec": {
   "display_name": "Python 3 (ipykernel)",
   "language": "python",
   "name": "python3"
  },
  "language_info": {
   "codemirror_mode": {
    "name": "ipython",
    "version": 3
   },
   "file_extension": ".py",
   "mimetype": "text/x-python",
   "name": "python",
   "nbconvert_exporter": "python",
   "pygments_lexer": "ipython3",
   "version": "3.9.13"
  },
  "vscode": {
   "interpreter": {
    "hash": "1a1af0ee75eeea9e2e1ee996c87e7a2b11a0bebd85af04bb136d915cefc0abce"
   }
  }
 },
 "nbformat": 4,
 "nbformat_minor": 5
}
